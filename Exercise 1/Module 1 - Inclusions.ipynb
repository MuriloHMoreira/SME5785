{
 "cells": [
  {
   "cell_type": "code",
   "execution_count": null,
   "metadata": {
    "ExecuteTime": {
     "end_time": "2019-09-01T18:33:14.250630Z",
     "start_time": "2019-09-01T18:33:14.245627Z"
    }
   },
   "outputs": [],
   "source": [
    "from dolfin import *\n",
    "from mshr import *\n",
    "import numpy\n",
    "from datetime import datetime\n",
    "import csv\n",
    "import os\n",
    "import sys\n",
    "import matplotlib.pyplot as plt\n",
    "\n",
    "#-------------------------------------------------------\n",
    "# USER DEFINED PARAMETERS:\n",
    "# Set the following parameters according to your problem\n",
    "\n",
    "# Choose one IO format\n",
    "#fileio = 'xdmf'\n",
    "fileio = 'pvd'\n",
    "\n",
    "# Space dimensions\n",
    "nsd    = 2\n",
    "\n",
    "# Number of immersed balls\n",
    "nballs = 3\n",
    "\n",
    "# Computational domain\n",
    "Lx     = 2.0\n",
    "Ly     = 2.0\n",
    "\n",
    "# Balls initial positions\n",
    "centers = [[0.5,1], [1,1.5], [1.5,1]]\n",
    "radii   = [0.25, 0.15, 0.25]\n",
    "\n",
    "xc = [[] for ib in range(nballs)]\n",
    "for ib in range(nballs):\n",
    "   [xc[ib].append(centers[ib][j]) for j in range(nsd)]\n",
    "\n",
    "# Thermal conductivity\n",
    "kA,kB = 1.2, 10000.2\n",
    "condA, condB = Constant(kA), Constant(kB)\n",
    "\n",
    "# Volumetric source\n",
    "f = Constant(0)\n",
    "\n",
    "# Boundary temperatures\n",
    "Tleft   = Constant(100)\n",
    "Tright  = Constant(0)\n",
    "\n",
    "# Variational problem: Preliminaries\n",
    "# Finite elements\n",
    "order = 2\n",
    "Pk = FiniteElement(\"Lagrange\", 'triangle', order)\n",
    "\n",
    "# Dirichlet boundary conditions\n",
    "# Subdomains\n",
    "class left(SubDomain):\n",
    "   def inside(self, x, on_boundary):\n",
    "       return on_boundary and abs(x[0]-0.0) < DOLFIN_EPS\n",
    "\n",
    "class right(SubDomain):\n",
    "    def inside(self, x, on_boundary):\n",
    "        return on_boundary and abs(x[0]-Lx) < DOLFIN_EPS\n",
    "            \n",
    "class top(SubDomain):\n",
    "    def inside(self, x, on_boundary):\n",
    "        return on_boundary and abs(x[1]-0.0) < DOLFIN_EPS\n",
    "            \n",
    "class bottom(SubDomain):\n",
    "    def inside(self, x, on_boundary):\n",
    "        return on_boundary and abs(x[1]-Ly) < DOLFIN_EPS\n",
    "\n",
    "class ball(SubDomain):\n",
    "   def __init__(self,xc,yc,R):\n",
    "      self.xc = xc\n",
    "      self.yc = yc\n",
    "      self.R = R\n",
    "      SubDomain.__init__(self) # Call base class constructor!\n",
    "   def inside (self, x, on_boundary ):\n",
    "      r = sqrt ( ( x[0] - self.xc ) ** 2 + ( x[1] - self.yc ) ** 2 )\n",
    "      return ( on_boundary and ( r < self.R * 1.1 ) )\n",
    "\n",
    "left   = left()\n",
    "right  = right()\n",
    "top    = top()\n",
    "bottom = bottom()\n",
    "\n",
    "# IO\n",
    "dir_ = './results'\n",
    "if not os.path.exists(dir_):\n",
    "    os.mkdir(dir_)\n",
    "\n",
    "if fileio == 'xdmf':\n",
    "    filex = XDMFFile(dir_+'/sol.xdmf')\n",
    "    filex.parameters['functions_share_mesh'] = True\n",
    "    filex.parameters['rewrite_function_mesh'] = True\n",
    "    filex.parameters[\"flush_output\"] = True\n",
    "elif fileio == 'pvd': \n",
    "    ufile_pvd  = File(dir_+\"/temperature.pvd\")\n",
    "    domfile_pvd = File(dir_+\"/auxfunc.pvd\")\n",
    "\n",
    "# Begin loop over time steps\n",
    "startTime = datetime.now()\n",
    "print('\\n   ::> Begin computations')\n",
    "\n",
    "#----------------------------------------------\n",
    "# Mesh generation\n",
    "\n",
    "if(nsd == 2):\n",
    "   domain = Rectangle(Point(0.0,0.0), Point(Lx,Ly))\n",
    "   for ib in range(nballs):\n",
    "      inc = Circle(Point(xc[ib][0],xc[ib][1]),radii[ib])\n",
    "      domain.set_subdomain(ib+1, inc)\n",
    "else:\n",
    "   sys.exit(\"nsd.eq.3 not implemented\")\n",
    "    \n",
    "mesh = generate_mesh ( domain, 40 )\n",
    "print(\"    |-Mesh done\")\n",
    "print(\"    |--Number of vertices = \"+str(mesh.num_vertices()))\n",
    "print(\"    |--Number of cells = \"+str(mesh.num_cells()))\n",
    "print(\"    |--Cell size hmax,hmin = %.3g %.3g\" % (mesh.hmax(), mesh.hmin()))  \n",
    "\n",
    "# Finite element space\n",
    "W = FunctionSpace(mesh, Pk)\n",
    "\n",
    "# Dirichlet restrictions on W\n",
    "bcs = []\n",
    "# Fixed temperature: left and right\n",
    "bcleft  = DirichletBC(W, Tleft, left)\n",
    "bcs.append(bcleft)\n",
    "bcright  = DirichletBC(W, Tright, right)\n",
    "bcs.append(bcright)\n",
    "    \n",
    "#-----------------------------------------\n",
    "# Variational formulation: Poisson problem\n",
    "\n",
    "u = TrialFunction(W)\n",
    "v = TestFunction(W)\n",
    "\n",
    "# Add the different inclusions to the domain of integration\n",
    "funcdom = MeshFunction(\"size_t\", mesh, mesh.topology().dim(), mesh.domains())\n",
    "dx = Measure(\"dx\")(subdomain_data=funcdom)\n",
    "\n",
    "dxf = dx(1)\n",
    "for ib in range(nballs-1):\n",
    "   dxf = dxf + dx(ib+2)\n",
    "\n",
    "# Bilinear and linear forms\n",
    "a = inner(condA*grad(u), grad(v))*dx(0) + inner(condB*grad(u), grad(v))*dxf   \n",
    "L = f*v*dx\n",
    "\n",
    "#---------\n",
    "# Solution\n",
    "\n",
    "w = Function(W)\n",
    "solve(a == L, w, bcs)\n",
    "\n",
    "# IO\n",
    "w.rename(\"T\",\"T\")\n",
    "if fileio == 'xdmf':\n",
    "  filex.write(w, 0)\n",
    "  filex.write(funcdom, 0)\n",
    "elif fileio == 'pvd':\n",
    "  ufile_pvd << w\n",
    "  domfile_pvd << funcdom\n",
    "\n",
    "elapsed_time = datetime.now() - startTime\n",
    "print('\\n  ::> Elapsed time: ', str(elapsed_time), '\\n')\n",
    "\n",
    "if fileio == 'xdmf':\n",
    "    filex.close()\n",
    "\n"
   ]
  },
  {
   "cell_type": "markdown",
   "metadata": {},
   "source": [
    "# Make sure to understand the code"
   ]
  },
  {
   "cell_type": "code",
   "execution_count": 29,
   "metadata": {
    "ExecuteTime": {
     "end_time": "2019-09-01T18:49:30.590318Z",
     "start_time": "2019-09-01T18:49:30.424238Z"
    }
   },
   "outputs": [
    {
     "name": "stdout",
     "output_type": "stream",
     "text": [
      "\n",
      "   ::> Begin computations\n",
      "    |-Mesh done\n",
      "    |--Number of vertices = 2538\n",
      "    |--Number of cells = 4906\n",
      "    |--Cell size hmax,hmin = 0.0636 0.032\n",
      "\n",
      "  ::> Elapsed time:  0:00:00.136402 \n",
      "\n"
     ]
    }
   ],
   "source": [
    "from dolfin import *\n",
    "from mshr import *\n",
    "import numpy\n",
    "from datetime import datetime\n",
    "import csv\n",
    "import os\n",
    "import sys\n",
    "import matplotlib.pyplot as plt\n",
    "\n",
    "#-------------------------------------------------------\n",
    "# USER DEFINED PARAMETERS:\n",
    "# Set the following parameters according to your problem\n",
    "\n",
    "# Choose one IO format\n",
    "#fileio = 'xdmf'\n",
    "fileio = 'pvd'\n",
    "\n",
    "# Space dimensions\n",
    "nsd    = 2\n",
    "\n",
    "# Number of immersed balls\n",
    "nballs = 3\n",
    "\n",
    "# Computational domain\n",
    "Lx     = 2.0\n",
    "Ly     = 2.0\n",
    "\n",
    "# Balls initial positions\n",
    "centers = [[0.5,1], [1,1.5], [1.5,1]]\n",
    "radii   = [0.25, 0.15, 0.25]\n",
    "\n",
    "xc = [[] for ib in range(nballs)]\n",
    "for ib in range(nballs):\n",
    "   [xc[ib].append(centers[ib][j]) for j in range(nsd)]\n",
    "\n",
    "# Thermal conductivity\n",
    "kA, kB = 1.0, 1.0\n",
    "condA, condB = Constant(kA), Constant(kB)\n",
    "\n",
    "# Volumetric source\n",
    "f = Constant(0)\n",
    "\n",
    "# Boundary temperatures\n",
    "Tleft   = Constant(100)\n",
    "Tright  = Constant(0)\n",
    "\n",
    "# Variational problem: Preliminaries\n",
    "# Finite elements\n",
    "order = 1\n",
    "Pk = FiniteElement(\"Lagrange\", 'triangle', order)\n",
    "\n",
    "# Dirichlet boundary conditions\n",
    "# Subdomains\n",
    "class left(SubDomain):\n",
    "    def inside(self, x, on_boundary):\n",
    "       return on_boundary and abs(x[0]-0.0) < DOLFIN_EPS\n",
    "\n",
    "class right(SubDomain):\n",
    "    def inside(self, x, on_boundary):\n",
    "        return on_boundary and abs(x[0]-Lx) < DOLFIN_EPS\n",
    "            \n",
    "class top(SubDomain):\n",
    "    def inside(self, x, on_boundary):\n",
    "        return on_boundary and abs(x[1]-0.0) < DOLFIN_EPS\n",
    "            \n",
    "class bottom(SubDomain):\n",
    "    def inside(self, x, on_boundary):\n",
    "        return on_boundary and abs(x[1]-Ly) < DOLFIN_EPS\n",
    "\n",
    "class ball(SubDomain):\n",
    "   def __init__(self,xc,yc,R):\n",
    "      self.xc = xc\n",
    "      self.yc = yc\n",
    "      self.R = R\n",
    "      SubDomain.__init__(self) # Call base class constructor!\n",
    "   def inside (self, x, on_boundary ):\n",
    "      r = sqrt ( ( x[0] - self.xc ) ** 2 + ( x[1] - self.yc ) ** 2 )\n",
    "      return ( on_boundary and ( r < self.R * 1.1 ) )\n",
    "\n",
    "left   = left()\n",
    "right  = right()\n",
    "top    = top()\n",
    "bottom = bottom()\n",
    "\n",
    "# IO\n",
    "dir_ = './results'\n",
    "if not os.path.exists(dir_):\n",
    "    os.mkdir(dir_)\n",
    "\n",
    "if fileio == 'xdmf':\n",
    "    filex = XDMFFile(dir_+'/sol.xdmf')\n",
    "    filex.parameters['functions_share_mesh'] = True\n",
    "    filex.parameters['rewrite_function_mesh'] = True\n",
    "    filex.parameters[\"flush_output\"] = True\n",
    "elif fileio == 'pvd': \n",
    "    ufile_pvd  = File(dir_+\"/temperature.pvd\")\n",
    "    domfile_pvd = File(dir_+\"/auxfunc.pvd\")\n",
    "\n",
    "# Begin loop over time steps\n",
    "startTime = datetime.now()\n",
    "print('\\n   ::> Begin computations')\n",
    "\n",
    "#----------------------------------------------\n",
    "# Mesh generation\n",
    "\n",
    "if(nsd == 2):\n",
    "   domain = Rectangle(Point(0.0,0.0), Point(Lx,Ly))\n",
    "   for ib in range(nballs):\n",
    "      inc = Circle(Point(xc[ib][0],xc[ib][1]),radii[ib])\n",
    "      domain.set_subdomain(ib+1, inc)\n",
    "else:\n",
    "   sys.exit(\"nsd.eq.3 not implemented\")\n",
    "    \n",
    "mesh = generate_mesh ( domain, 40 )\n",
    "print(\"    |-Mesh done\")\n",
    "print(\"    |--Number of vertices = \"+str(mesh.num_vertices()))\n",
    "print(\"    |--Number of cells = \"+str(mesh.num_cells()))\n",
    "print(\"    |--Cell size hmax,hmin = %.3g %.3g\" % (mesh.hmax(), mesh.hmin()))  \n",
    "\n",
    "# Finite element space\n",
    "W = FunctionSpace(mesh, Pk)\n",
    "\n",
    "# Dirichlet restrictions on W\n",
    "bcs = []\n",
    "# Fixed temperature: left and right\n",
    "bcleft  = DirichletBC(W, Tleft, left)\n",
    "bcs.append(bcleft)\n",
    "bcright  = DirichletBC(W, Tright, right)\n",
    "bcs.append(bcright)\n",
    "    \n",
    "#-----------------------------------------\n",
    "# Variational formulation: Poisson problem\n",
    "\n",
    "u = TrialFunction(W)\n",
    "v = TestFunction(W)\n",
    "\n",
    "# Add the different inclusions to the domain of integration\n",
    "funcdom = MeshFunction(\"size_t\", mesh, mesh.topology().dim(), mesh.domains())\n",
    "dx = Measure(\"dx\")(subdomain_data=funcdom)\n",
    "\n",
    "dxf = dx(1)\n",
    "for ib in range(nballs-1):\n",
    "   dxf = dxf + dx(ib+2)\n",
    "\n",
    "# Bilinear and linear forms\n",
    "a = inner(condA*grad(u), grad(v))*dx(0) + inner(condB*grad(u), grad(v))*dxf   \n",
    "L = f*v*dx\n",
    "\n",
    "#---------\n",
    "# Solution\n",
    "\n",
    "w = Function(W)\n",
    "solve(a == L, w, bcs)\n",
    "\n",
    "# IO\n",
    "w.rename(\"T\",\"T\")\n",
    "if fileio == 'xdmf':\n",
    "  filex.write(w, 0)\n",
    "  filex.write(funcdom, 0)\n",
    "elif fileio == 'pvd':\n",
    "  ufile_pvd << w\n",
    "  domfile_pvd << funcdom\n",
    "\n",
    "elapsed_time = datetime.now() - startTime\n",
    "print('\\n  ::> Elapsed time: ', str(elapsed_time), '\\n')\n",
    "\n",
    "if fileio == 'xdmf':\n",
    "    filex.close()\n",
    "\n"
   ]
  },
  {
   "cell_type": "markdown",
   "metadata": {
    "ExecuteTime": {
     "end_time": "2019-09-01T18:37:09.059713Z",
     "start_time": "2019-09-01T18:37:09.057255Z"
    }
   },
   "source": [
    "# and 3 Compute the error in the L2(Ω) and H1 (Ω)-norms"
   ]
  },
  {
   "cell_type": "markdown",
   "metadata": {},
   "source": [
    "------------------------------------"
   ]
  },
  {
   "cell_type": "code",
   "execution_count": 7,
   "metadata": {
    "ExecuteTime": {
     "end_time": "2019-09-01T18:40:35.139707Z",
     "start_time": "2019-09-01T18:40:35.104231Z"
    },
    "scrolled": true
   },
   "outputs": [
    {
     "name": "stdout",
     "output_type": "stream",
     "text": [
      " | - Errors = 8.187724245457061e-13 2.0689319122251636e-12\n"
     ]
    }
   ],
   "source": [
    "ue = Expression('Tleft -( Tleft - Tright )*x [0]/ Lx', degree=1, Tleft=100,\n",
    "                Tright=0, Lx=2)\n",
    "\n",
    "gradue = Expression(('-(Tleft - Tright )/Lx','0'), degree=0, Tleft=100,\n",
    "                    Tright=0, Lx =2)\n",
    "w = Function (W)\n",
    "solve (a == L, w, bcs)\n",
    "errorL2 = assemble ((w - ue )**2*dx)\n",
    "errorH1 = errorL2 + assemble ((grad (w) - gradue)**2* dx)\n",
    "print (\" | - Errors =\", sqrt ( errorL2 ) , sqrt ( errorH1 ) )\n"
   ]
  },
  {
   "cell_type": "markdown",
   "metadata": {
    "ExecuteTime": {
     "end_time": "2019-09-01T18:52:43.678898Z",
     "start_time": "2019-09-01T18:52:43.674055Z"
    }
   },
   "source": [
    "# Run the script setting different values for κB (variable kB in the code)"
   ]
  },
  {
   "cell_type": "code",
   "execution_count": 68,
   "metadata": {
    "ExecuteTime": {
     "end_time": "2019-09-01T19:07:13.795813Z",
     "start_time": "2019-09-01T19:07:13.001814Z"
    }
   },
   "outputs": [
    {
     "name": "stdout",
     "output_type": "stream",
     "text": [
      " | - Errors = 3.739043590623411 30.123925617816344\n",
      " | -- Q_in = 83.97613588569673 , Q_out =  -84.04144456330336\n",
      " | - Errors = 1.4457182020408066 11.730113979949374\n",
      " | -- Q_in = 93.73076546581673 , Q_out =  -93.75650066092336\n",
      " | - Errors = 1.7195909097030054e-12 3.550717667144812e-12\n",
      " | -- Q_in = 99.99999999999525 , Q_out =  -100.00000000000288\n",
      " | - Errors = 1.0008696582682037 8.169247211457993\n",
      " | -- Q_in = 104.37843763419757 , Q_out =  -104.36035497735115\n",
      " | - Errors = 1.7364455597214181 14.195014010632626\n",
      " | -- Q_in = 107.61211954443469 , Q_out =  -107.58063391627985\n",
      " | - Errors = 2.300414925400031 18.826364510202392\n",
      " | -- Q_in = 110.09907556928948 , Q_out =  -110.05725781881326\n",
      " | - Errors = 2.746781375243333 22.49845741406472\n",
      " | -- Q_in = 112.07160058627927 , Q_out =  -112.02157454176243\n",
      " | - Errors = 3.1089600273355362 25.48196440013453\n",
      " | -- Q_in = 113.67454648315949 , Q_out =  -113.61784210756579\n",
      " | - Errors = 3.408768074981435 27.954276001522317\n",
      " | -- Q_in = 115.0029860529661 , Q_out =  -114.94074199392712\n",
      " | - Errors = 3.6610677391093636 30.036575355937934\n",
      " | -- Q_in = 116.12192798682051 , Q_out =  -116.0550145486515\n",
      " | - Errors = 3.8763387077647184 31.814499726851015\n",
      " | -- Q_in = 117.0773402301327 , Q_out =  -117.00643755599258\n"
     ]
    }
   ],
   "source": [
    "dx = Measure(\"dx\")( subdomain_data = funcdom )\n",
    "dxf = dx(1)\n",
    "for ib in range (nballs -1) :\n",
    "    dxf = dxf + dx (ib +2)\n",
    "\n",
    "L2_errors = []\n",
    "H1_errors = []\n",
    "    \n",
    "for kB in np.arange(0.1, 5, 0.45):# np.linspace(1, 10, 10): #[1, 2 , 3, 5, 7, 8, 10, 24]:\n",
    "    condB = Constant (kB)\n",
    "    # Bilinear and linear forms\n",
    "    a = inner (condA * grad (u) , grad(v )) * dx (0)\n",
    "    a = a + inner (condB * grad (u) , grad(v )) * dxf\n",
    "    L = f * v * dx\n",
    "    # Solution\n",
    "    w = Function (W)\n",
    "    solve (a == L, w, bcs)\n",
    "    errorL2 = assemble ((w - ue )**2*dx)\n",
    "    errorH1 =errorL2 + assemble ((grad (w) - gradue)**2* dx)\n",
    "    L2_errors.append(sqrt(errorL2))\n",
    "    H1_errors.append(sqrt(errorH1))\n",
    "    print (\" | - Errors =\", sqrt(errorL2), sqrt(errorH1))\n",
    "    boundaries = MeshFunction(\"size_t\", mesh, mesh.topology().dim ()-1)\n",
    "    boundaries.set_all(0)\n",
    "    left.mark(boundaries, 1)\n",
    "    right.mark(boundaries, 3)\n",
    "    ds = Measure(\"ds\")(subdomain_data=boundaries)\n",
    "    n = FacetNormal(mesh)\n",
    "    Qin = assemble(kA * inner(grad(w), n) * ds(1))\n",
    "    Qout = assemble(kA * inner(grad(w), n) * ds(3))\n",
    "\n",
    "    print (\" | -- Q_in =\",  Qin, \", Q_out = \", Qout)\n",
    "    ufile_pvd  = File(dir_ +\"/temperature_\"+ str(kB)+ \".pvd\")\n",
    "    ufile_pvd << w\n"
   ]
  },
  {
   "cell_type": "code",
   "execution_count": 69,
   "metadata": {
    "ExecuteTime": {
     "end_time": "2019-09-01T19:07:23.649461Z",
     "start_time": "2019-09-01T19:07:23.640418Z"
    }
   },
   "outputs": [
    {
     "data": {
      "text/html": [
       "<div>\n",
       "<style scoped>\n",
       "    .dataframe tbody tr th:only-of-type {\n",
       "        vertical-align: middle;\n",
       "    }\n",
       "\n",
       "    .dataframe tbody tr th {\n",
       "        vertical-align: top;\n",
       "    }\n",
       "\n",
       "    .dataframe thead th {\n",
       "        text-align: right;\n",
       "    }\n",
       "</style>\n",
       "<table border=\"1\" class=\"dataframe\">\n",
       "  <thead>\n",
       "    <tr style=\"text-align: right;\">\n",
       "      <th></th>\n",
       "      <th>L2</th>\n",
       "      <th>H1</th>\n",
       "    </tr>\n",
       "  </thead>\n",
       "  <tbody>\n",
       "    <tr>\n",
       "      <th>0</th>\n",
       "      <td>3.739044e+00</td>\n",
       "      <td>3.012393e+01</td>\n",
       "    </tr>\n",
       "    <tr>\n",
       "      <th>1</th>\n",
       "      <td>1.445718e+00</td>\n",
       "      <td>1.173011e+01</td>\n",
       "    </tr>\n",
       "    <tr>\n",
       "      <th>2</th>\n",
       "      <td>1.719591e-12</td>\n",
       "      <td>3.550718e-12</td>\n",
       "    </tr>\n",
       "    <tr>\n",
       "      <th>3</th>\n",
       "      <td>1.000870e+00</td>\n",
       "      <td>8.169247e+00</td>\n",
       "    </tr>\n",
       "    <tr>\n",
       "      <th>4</th>\n",
       "      <td>1.736446e+00</td>\n",
       "      <td>1.419501e+01</td>\n",
       "    </tr>\n",
       "    <tr>\n",
       "      <th>5</th>\n",
       "      <td>2.300415e+00</td>\n",
       "      <td>1.882636e+01</td>\n",
       "    </tr>\n",
       "    <tr>\n",
       "      <th>6</th>\n",
       "      <td>2.746781e+00</td>\n",
       "      <td>2.249846e+01</td>\n",
       "    </tr>\n",
       "    <tr>\n",
       "      <th>7</th>\n",
       "      <td>3.108960e+00</td>\n",
       "      <td>2.548196e+01</td>\n",
       "    </tr>\n",
       "    <tr>\n",
       "      <th>8</th>\n",
       "      <td>3.408768e+00</td>\n",
       "      <td>2.795428e+01</td>\n",
       "    </tr>\n",
       "    <tr>\n",
       "      <th>9</th>\n",
       "      <td>3.661068e+00</td>\n",
       "      <td>3.003658e+01</td>\n",
       "    </tr>\n",
       "    <tr>\n",
       "      <th>10</th>\n",
       "      <td>3.876339e+00</td>\n",
       "      <td>3.181450e+01</td>\n",
       "    </tr>\n",
       "  </tbody>\n",
       "</table>\n",
       "</div>"
      ],
      "text/plain": [
       "              L2            H1\n",
       "0   3.739044e+00  3.012393e+01\n",
       "1   1.445718e+00  1.173011e+01\n",
       "2   1.719591e-12  3.550718e-12\n",
       "3   1.000870e+00  8.169247e+00\n",
       "4   1.736446e+00  1.419501e+01\n",
       "5   2.300415e+00  1.882636e+01\n",
       "6   2.746781e+00  2.249846e+01\n",
       "7   3.108960e+00  2.548196e+01\n",
       "8   3.408768e+00  2.795428e+01\n",
       "9   3.661068e+00  3.003658e+01\n",
       "10  3.876339e+00  3.181450e+01"
      ]
     },
     "execution_count": 69,
     "metadata": {},
     "output_type": "execute_result"
    }
   ],
   "source": [
    "import pandas as pd\n",
    "df = pd.DataFrame(np.array([L2_errors, H1_errors]).T, columns=['L2', 'H1'])\n",
    "df"
   ]
  },
  {
   "cell_type": "code",
   "execution_count": 70,
   "metadata": {
    "ExecuteTime": {
     "end_time": "2019-09-01T19:07:26.225355Z",
     "start_time": "2019-09-01T19:07:25.785627Z"
    }
   },
   "outputs": [
    {
     "data": {
      "image/png": "[encoded data removed]",
      "text/plain": [
       "<Figure size 432x288 with 1 Axes>"
      ]
     },
     "metadata": {
      "needs_background": "light"
     },
     "output_type": "display_data"
    }
   ],
   "source": [
    "plt.plot(L2_errors, c='navy', label='L_2')\n",
    "plt.plot(H1_errors, label='H_1')\n",
    "#plt.gca().set(xscale='log')\n",
    "plt.gca().set(yscale='log')\n",
    "\n",
    "plt.legend()\n",
    "plt.grid()\n",
    "plt.show()"
   ]
  },
  {
   "cell_type": "markdown",
   "metadata": {},
   "source": [
    "# Implement the computation of the amount of heat coming in and out the domain through the left and right boundaries"
   ]
  },
  {
   "cell_type": "code",
   "execution_count": 62,
   "metadata": {
    "ExecuteTime": {
     "end_time": "2019-09-01T18:59:44.272798Z",
     "start_time": "2019-09-01T18:59:44.258184Z"
    }
   },
   "outputs": [
    {
     "name": "stdout",
     "output_type": "stream",
     "text": [
      " | -- Q_in = 117.07866211448135 , Q_out =  -117.01539180455815\n"
     ]
    }
   ],
   "source": [
    "boundaries = MeshFunction(\"size_t\", mesh, mesh.topology().dim ()-1)\n",
    "boundaries.set_all(0)\n",
    "left.mark(boundaries, 1)\n",
    "right.mark(boundaries, 3)\n",
    "ds = Measure(\"ds\")(subdomain_data=boundaries)\n",
    "n = FacetNormal(mesh)\n",
    "Qin = assemble(kA * inner(grad(w), n) * ds(1))\n",
    "Qout = assemble(kA * inner(grad(w), n) * ds(3))\n",
    "\n",
    "print (\" | -- Q_in =\",  Qin, \", Q_out = \", Qout)"
   ]
  },
  {
   "cell_type": "markdown",
   "metadata": {
    "ExecuteTime": {
     "end_time": "2019-09-01T18:58:13.274188Z",
     "start_time": "2019-09-01T18:58:11.909833Z"
    }
   },
   "source": [
    "# Let consider κB >> κA, such that the temperature on each circular region is approximately constant."
   ]
  },
  {
   "cell_type": "code",
   "execution_count": 64,
   "metadata": {
    "ExecuteTime": {
     "end_time": "2019-09-01T19:02:44.509081Z",
     "start_time": "2019-09-01T19:02:39.706658Z"
    }
   },
   "outputs": [
    {
     "name": "stdout",
     "output_type": "stream",
     "text": [
      "Calling FFC just-in-time (JIT) compiler, this may take some time.\n",
      "Calling FFC just-in-time (JIT) compiler, this may take some time.\n",
      "Calling FFC just-in-time (JIT) compiler, this may take some time.\n"
     ]
    }
   ],
   "source": [
    "faux = Function(W)\n",
    "faux = interpolate(Constant(1.0), W)\n",
    "avgT = []\n",
    "for ib in range (nballs) :\n",
    "    area = assemble (faux * dx(ib + 1))\n",
    "    avgT.append(assemble(w * dx(ib + 1))/area)"
   ]
  },
  {
   "cell_type": "code",
   "execution_count": 65,
   "metadata": {
    "ExecuteTime": {
     "end_time": "2019-09-01T19:02:45.144295Z",
     "start_time": "2019-09-01T19:02:45.139114Z"
    }
   },
   "outputs": [
    {
     "data": {
      "text/plain": [
       "[74.49619216145808, 50.0006226102074, 25.504711418338594]"
      ]
     },
     "execution_count": 65,
     "metadata": {},
     "output_type": "execute_result"
    }
   ],
   "source": [
    "avgT"
   ]
  },
  {
   "cell_type": "code",
   "execution_count": 76,
   "metadata": {
    "ExecuteTime": {
     "end_time": "2019-09-01T19:10:58.907561Z",
     "start_time": "2019-09-01T19:10:52.746690Z"
    }
   },
   "outputs": [
    {
     "name": "stdout",
     "output_type": "stream",
     "text": [
      "| -- Order = 1\n",
      " | - Errors = 3.7385704411183145 30.115777245413284\n",
      "   | -- Q_in = 83.9780482303837 , Q_out =  -84.03657995218649\n",
      "\n",
      " | - Errors = 1.4456981510265137 11.728473568604993\n",
      "   | -- Q_in = 93.731014604393 , Q_out =  -93.75404920375765\n",
      "\n",
      " | - Errors = 7.953760106510414e-13 2.031340141255189e-12\n",
      "   | -- Q_in = 99.99999999999697 , Q_out =  -100.0000000000012\n",
      "\n",
      " | - Errors = 1.0009249797264934 8.168846875383538\n",
      "   | -- Q_in = 104.37854013496916 , Q_out =  -104.36237739791706\n",
      "\n",
      " | - Errors = 1.7365657937175543 14.19460963712241\n",
      "   | -- Q_in = 107.61241643583308 , Q_out =  -107.58428556040985\n",
      "\n",
      "| -- Order = 2\n",
      " | - Errors = 3.775289466379585 30.46531462953904\n",
      "   | -- Q_in = 83.91725505321418 , Q_out =  -83.91637456229122\n",
      "\n",
      " | - Errors = 1.4537679042174465 11.81491704448071\n",
      "   | -- Q_in = 93.7296014664774 , Q_out =  -93.72922219042489\n",
      "\n",
      " | - Errors = 1.3842379836013056e-10 2.643797540742883e-10\n",
      "   | -- Q_in = 99.9999999994919 , Q_out =  -100.0000000002513\n",
      "\n",
      " | - Errors = 1.0026744921550461 8.196597548586663\n",
      "   | -- Q_in = 104.3636554354077 , Q_out =  -104.36394045824024\n",
      "\n",
      " | - Errors = 1.7377417300563294 14.226816723060871\n",
      "   | -- Q_in = 107.57843671329724 , Q_out =  -107.5789411015945\n",
      "\n",
      "| -- Order = 3\n",
      " | - Errors = 3.775825678523374 30.476471372610693\n",
      "   | -- Q_in = 83.91771372485081 , Q_out =  -83.9179676018064\n",
      "\n",
      " | - Errors = 1.4538275135721501 11.817490716244798\n",
      "   | -- Q_in = 93.73052321016651 , Q_out =  -93.73062637300148\n",
      "\n",
      " | - Errors = 3.755134844613605e-10 7.191331969150834e-10\n",
      "   | -- Q_in = 100.00000000137064 , Q_out =  -99.9999999993194\n",
      "\n",
      " | - Errors = 1.0026373908972717 8.197419530245902\n",
      "   | -- Q_in = 104.36251137783592 , Q_out =  -104.36243699358005\n",
      "\n",
      " | - Errors = 1.7376402001139373 14.227781770203412\n",
      "   | -- Q_in = 107.57619176937902 , Q_out =  -107.576061391179\n",
      "\n",
      "| -- Order = 4\n",
      " | - Errors = 3.7759562450201307 30.47926359176279\n",
      "   | -- Q_in = 83.9170283077178 , Q_out =  -83.91702459290029\n",
      "\n",
      " | - Errors = 1.4538420014316624 11.818046978747168\n",
      "   | -- Q_in = 93.73042230792423 , Q_out =  -93.73042077504134\n",
      "\n",
      " | - Errors = 2.15353069502173e-11 6.201361019680528e-11\n",
      "   | -- Q_in = 100.00000000007812 , Q_out =  -99.9999999999614\n",
      "\n",
      " | - Errors = 1.0026312099622756 8.197588549206172\n",
      "   | -- Q_in = 104.36248121189558 , Q_out =  -104.36248232494324\n",
      "\n",
      " | - Errors = 1.737622038099969 14.227982365842797\n",
      "   | -- Q_in = 107.5760882572666 , Q_out =  -107.57609021017015\n",
      "\n"
     ]
    }
   ],
   "source": [
    "orders = [1, 2, 3, 4]\n",
    "df_os = []\n",
    "set_log_level(50)\n",
    "for o in orders:\n",
    "    print (\"| -- Order =\",  o)\n",
    "    order = o\n",
    "    Pk = FiniteElement(\"Lagrange\", 'triangle', order)\n",
    "    if(nsd == 2):\n",
    "       domain = Rectangle(Point(0.0,0.0), Point(Lx,Ly))\n",
    "       for ib in range(nballs):\n",
    "          inc = Circle(Point(xc[ib][0],xc[ib][1]),radii[ib])\n",
    "          domain.set_subdomain(ib+1, inc)\n",
    "    else:\n",
    "       sys.exit(\"nsd.eq.3 not implemented\")\n",
    "\n",
    "    mesh = generate_mesh (domain, 40 )\n",
    "    W = FunctionSpace(mesh, Pk)\n",
    "\n",
    "    # Dirichlet restrictions on W\n",
    "    bcs = []\n",
    "    # Fixed temperature: left and right\n",
    "    bcleft  = DirichletBC(W, Tleft, left)\n",
    "    bcs.append(bcleft)\n",
    "    bcright  = DirichletBC(W, Tright, right)\n",
    "    bcs.append(bcright)\n",
    "\n",
    "    #-----------------------------------------\n",
    "    # Variational formulation: Poisson problem\n",
    "\n",
    "    u = TrialFunction(W)\n",
    "    v = TestFunction(W)\n",
    "\n",
    "    # Add the different inclusions to the domain of integration\n",
    "    funcdom = MeshFunction(\"size_t\", mesh, mesh.topology().dim(), mesh.domains())\n",
    "    dx = Measure(\"dx\")(subdomain_data=funcdom)\n",
    "\n",
    "    dxf = dx(1)\n",
    "    for ib in range(nballs-1):\n",
    "       dxf = dxf + dx(ib+2)\n",
    "\n",
    "    # Bilinear and linear forms\n",
    "    a = inner(condA*grad(u), grad(v))*dx(0) + inner(condB*grad(u), grad(v))*dxf   \n",
    "    L = f*v*dx\n",
    "\n",
    "    dx = Measure(\"dx\")( subdomain_data = funcdom )\n",
    "    dxf = dx(1)\n",
    "    for ib in range (nballs -1) :\n",
    "        dxf = dxf + dx (ib +2)\n",
    "\n",
    "    L2_errors = []\n",
    "    H1_errors = []\n",
    "\n",
    "    for kB in np.arange(0.1, 2, 0.45):# np.linspace(1, 10, 10): #[1, 2 , 3, 5, 7, 8, 10, 24]:\n",
    "        condB = Constant (kB)\n",
    "        # Bilinear and linear forms\n",
    "        a = inner (condA * grad (u) , grad(v )) * dx (0)\n",
    "        a = a + inner (condB * grad (u) , grad(v )) * dxf\n",
    "        L = f * v * dx\n",
    "        # Solution\n",
    "        w = Function (W)\n",
    "        solve (a == L, w, bcs)\n",
    "        errorL2 = assemble ((w - ue )**2*dx)\n",
    "        errorH1 =errorL2 + assemble ((grad (w) - gradue)**2* dx)\n",
    "        L2_errors.append(sqrt(errorL2))\n",
    "        H1_errors.append(sqrt(errorH1))\n",
    "        print (\" | - Errors =\", sqrt(errorL2), sqrt(errorH1))\n",
    "        boundaries = MeshFunction(\"size_t\", mesh, mesh.topology().dim ()-1)\n",
    "        boundaries.set_all(0)\n",
    "        left.mark(boundaries, 1)\n",
    "        right.mark(boundaries, 3)\n",
    "        ds = Measure(\"ds\")(subdomain_data=boundaries)\n",
    "        n = FacetNormal(mesh)\n",
    "        Qin = assemble(kA * inner(grad(w), n) * ds(1))\n",
    "        Qout = assemble(kA * inner(grad(w), n) * ds(3))\n",
    "\n",
    "        print (\"   | -- Q_in =\",  Qin, \", Q_out = \", Qout)\n",
    "        print( )\n",
    "        ufile_pvd  = File(dir_ +\"/temperature_\"+ str(kB)+ \".pvd\")\n",
    "        ufile_pvd << w\n",
    "    df_os.append(pd.DataFrame(np.array([L2_errors, H1_errors]).T,\n",
    "                              columns=['L2', 'H1']))"
   ]
  },
  {
   "cell_type": "code",
   "execution_count": 84,
   "metadata": {
    "ExecuteTime": {
     "end_time": "2019-09-01T19:14:54.586393Z",
     "start_time": "2019-09-01T19:14:54.113246Z"
    }
   },
   "outputs": [
    {
     "data": {
      "image/png": "[encoded data removed]",
      "text/plain": [
       "<Figure size 432x288 with 1 Axes>"
      ]
     },
     "metadata": {
      "needs_background": "light"
     },
     "output_type": "display_data"
    }
   ],
   "source": [
    "ls = ['-', '--', ':', '-.']\n",
    "plt.figure()\n",
    "for i, df in enumerate(df_os):\n",
    "    df.plot(y='L2', c='navy', ax=plt.gca(), ls=ls[i], label='L2 - Order='+str(i+1))\n",
    "    df.plot(y='H1', c='C0', ax=plt.gca(), ls=ls[i])\n",
    "    \n",
    "plt.gca().set(yscale='log')\n",
    "\n",
    "plt.legend()\n",
    "plt.grid()\n",
    "plt.show()"
   ]
  },
  {
   "cell_type": "code",
   "execution_count": null,
   "metadata": {},
   "outputs": [],
   "source": []
  }
 ],
 "metadata": {
  "kernelspec": {
   "display_name": "Python 3",
   "language": "python",
   "name": "python3"
  },
  "language_info": {
   "codemirror_mode": {
    "name": "ipython",
    "version": 3
   },
   "file_extension": ".py",
   "mimetype": "text/x-python",
   "name": "python",
   "nbconvert_exporter": "python",
   "pygments_lexer": "ipython3",
   "version": "3.6.8"
  },
  "latex_envs": {
   "LaTeX_envs_menu_present": true,
   "autoclose": false,
   "autocomplete": true,
   "bibliofile": "biblio.bib",
   "cite_by": "apalike",
   "current_citInitial": 1,
   "eqLabelWithNumbers": true,
   "eqNumInitial": 1,
   "hotkeys": {
    "equation": "Ctrl-E",
    "itemize": "Ctrl-I"
   },
   "labels_anchors": false,
   "latex_user_defs": false,
   "report_style_numbering": false,
   "user_envs_cfg": false
  },
  "toc": {
   "base_numbering": 1,
   "nav_menu": {},
   "number_sections": true,
   "sideBar": true,
   "skip_h1_title": false,
   "title_cell": "Table of Contents",
   "title_sidebar": "Contents",
   "toc_cell": false,
   "toc_position": {},
   "toc_section_display": true,
   "toc_window_display": false
  },
  "varInspector": {
   "cols": {
    "lenName": 16,
    "lenType": 16,
    "lenVar": 40
   },
   "kernels_config": {
    "python": {
     "delete_cmd_postfix": "",
     "delete_cmd_prefix": "del ",
     "library": "var_list.py",
     "varRefreshCmd": "print(var_dic_list())"
    },
    "r": {
     "delete_cmd_postfix": ") ",
     "delete_cmd_prefix": "rm(",
     "library": "var_list.r",
     "varRefreshCmd": "cat(var_dic_list()) "
    }
   },
   "types_to_exclude": [
    "module",
    "function",
    "builtin_function_or_method",
    "instance",
    "_Feature"
   ],
   "window_display": false
  }
 },
 "nbformat": 4,
 "nbformat_minor": 2
}
